{
 "cells": [
  {
   "cell_type": "code",
   "execution_count": 1,
   "metadata": {},
   "outputs": [],
   "source": [
    "from selenium import webdriver\n",
    "\n",
    "#chrome webdriver manager package: pip install webdriver-manager\n",
    "from webdriver_manager.chrome import ChromeDriverManager\n",
    "\n",
    "\n",
    "#options for headless mode etc.\n",
    "from selenium.webdriver.chrome.options import Options\n",
    "\n",
    "#for waiting till an element loads\n",
    "from selenium.common.exceptions import TimeoutException\n",
    "from selenium.webdriver.support.ui import WebDriverWait\n",
    "from selenium.webdriver.support import expected_conditions as EC\n",
    "from selenium.webdriver.common.by import By"
   ]
  },
  {
   "cell_type": "code",
   "execution_count": 2,
   "metadata": {},
   "outputs": [],
   "source": [
    "from bs4 import BeautifulSoup\n",
    "import requests\n",
    "import docx             #for writing to word document\n",
    "from PIL import Image   #for downloading/manipulating images\n",
    "import time\n",
    "from IPython.display import display #for displayin in jypyter notebooks\n",
    "import io               #for screenshot (bytes to pillow)\n",
    "\n",
    "import os               #remove temp files ex. images\n",
    "#import glob             #remove temp files ex. images"
   ]
  },
  {
   "cell_type": "code",
   "execution_count": 3,
   "metadata": {},
   "outputs": [],
   "source": [
    "location = '/Users/arunRB/Downloads/VELPARI_FILES/VELPARI_FULL/'\n",
    "url_file = 'velpari_all_urls.txt'\n",
    "book_file = 'Veerayuga_Naayagan_Velpari.docx'"
   ]
  },
  {
   "cell_type": "code",
   "execution_count": 4,
   "metadata": {},
   "outputs": [],
   "source": [
    "# chrome_options = Options()\n",
    "# chrome_options.headless = False\n",
    "# #chrome_options.add_argument('--start-maximized')\n",
    "# browser = webdriver.Chrome('/Users/arunRB/Downloads/chromedriver', options=chrome_options)\n",
    "# browser.get('https://www.vikatan.com/news/celebrity/124661-vel-paari-historical-hero')\n",
    "\n",
    "# timeout = 10 #seconds\n",
    "# try:\n",
    "#     element_present = EC.presence_of_element_located((By.CLASS_NAME, 'content-section'))\n",
    "#     WebDriverWait(browser, timeout).until(element_present)\n",
    "# except TimeoutException:\n",
    "#     print('Timed out waiting for page to load')\n",
    "#     browser.quit()\n",
    "\n",
    "# if element_present:\n",
    "#     soup_rand = BeautifulSoup(browser.page_source, 'html.parser')\n",
    "#     browser.close()"
   ]
  },
  {
   "cell_type": "code",
   "execution_count": 5,
   "metadata": {},
   "outputs": [],
   "source": [
    "class GetChapter:\n",
    "    \n",
    "    ## FUNCTION WRITE TO DOCX\n",
    "    #create & write to docx\n",
    "    #https://automatetheboringstuff.com/chapter13/     ==> go to “Writing Word Documents”\n",
    "    def write_chapter_to_docx(self, story_elems, chapter_name):\n",
    "\n",
    "        doc_name = location + book_file\n",
    "        temp_path = location + 'TEMP_IMAGES/'\n",
    "\n",
    "    \n",
    "        doc = docx.Document(doc_name)\n",
    "        \n",
    "        print(f'writing chapter\\n')\n",
    "        \n",
    "#         doc.add_paragraph(chapter_name, style='Intense Quote')\n",
    "        \n",
    "        p = doc.add_paragraph('')\n",
    "        p.add_run(chapter_name).bold = True\n",
    "\n",
    "        \n",
    "        for elem in story_elems:\n",
    "            #print(f'elem = {elem}')\n",
    "            figure_elem = elem.find('img')\n",
    "            if not figure_elem:\n",
    "                doc.add_paragraph(elem.text)\n",
    "            else:\n",
    "                img_url = figure_elem['data-src']\n",
    "                #download img to a pillow object\n",
    "                pil_img = Image.open(requests.get(img_url, stream = True).raw)\n",
    "                local_filename = temp_path + img_url.split('/')[-1].split(\"?\")[0]\n",
    "                pil_img.save(local_filename)\n",
    "\n",
    "                doc.add_picture(local_filename)\n",
    "\n",
    "                #save local img paths\n",
    "                #saved_imgs.append(local_filename)\n",
    "\n",
    "\n",
    "        #display(doc_name)\n",
    "        doc.add_paragraph('')\n",
    "        doc.add_paragraph('')\n",
    "        doc.add_page_break()\n",
    "        doc.save(doc_name)\n",
    "        \n",
    "        print(f'### Chapter Written Successfully!! : {chapter_name}\\n')\n",
    "        print(f'------------------------------------------------------------------------\\n')\n",
    "\n",
    "        rm_all_temp_path = 'rm -rf '+ temp_path + '*'\n",
    "        #display(rm_all_temp_path)\n",
    "        \n",
    "        #os.system(rm_all_temp_path)\n",
    "        \n",
    "    \n",
    "    ## FUNCTION\n",
    "    # given a url & webdriver instance do the following\n",
    "    #    -get url in (headless mode) \n",
    "    #    -wait till content-section is loaded(WebDriverWait) or throw exception after timeout\n",
    "    #    -crete a BS4 object from the successfully loaded page & close \"tab\"??\n",
    "    #    -use css selector to get all the story emements(both text & images)\n",
    "    #    -create & write story elements to docx\n",
    "    #    -save image elements to a local temp folder\n",
    "\n",
    "    \n",
    "    def fetch_chapter(self, browser, url):\n",
    "        if not browser:\n",
    "            print(\"\\n\\n#### issue with chrome instance, exititng!!!\")\n",
    "\n",
    "        browser.get(url)\n",
    "        timeout = 20 #seconds\n",
    "\n",
    "        try:\n",
    "            element_present = EC.presence_of_element_located((By.CLASS_NAME, 'content-section'))\n",
    "            WebDriverWait(browser, timeout).until(element_present)\n",
    "        except TimeoutException:\n",
    "            print('Timed out waiting for page to load')\n",
    "            #browser.quit()\n",
    "            \n",
    "            print(f'Try to bypass paywall..')\n",
    "            \n",
    "\n",
    "        if element_present:\n",
    "            soup_rand = BeautifulSoup(browser.page_source, 'html.parser')\n",
    "            browser.close()\n",
    "\n",
    "            chapter_name = soup_rand.h1.text\n",
    "            print(f'loaded chapter: {chapter_name}')\n",
    "            #print(type(soup_rand)\n",
    "\n",
    "            #use css selector to get all the story emements(both text & images)\n",
    "            story_elems = soup_rand.select(\"[class~=story-element]\")\n",
    "            \n",
    "            if not story_elems:\n",
    "                print(f'Did not read content!! len story_elems= {len(story_elems)}')\n",
    "                return False\n",
    "            else:\n",
    "                #write chapter as doc\n",
    "                self.write_chapter_to_docx(story_elems,chapter_name)\n",
    "            \n",
    "                return True\n",
    "        else:\n",
    "            soup_rand = BeautifulSoup(browser.page_source, 'html.parser')\n",
    "            browser.close()\n",
    "            display(soup_rand)\n",
    "            return False"
   ]
  },
  {
   "cell_type": "code",
   "execution_count": 6,
   "metadata": {},
   "outputs": [
    {
     "data": {
      "text/plain": [
       "'Hello World!'"
      ]
     },
     "metadata": {},
     "output_type": "display_data"
    },
    {
     "name": "stderr",
     "output_type": "stream",
     "text": [
      "[WDM] - Current google-chrome version is 87.0.4280\n",
      "[WDM] - Get LATEST driver version for 87.0.4280\n",
      "[WDM] - Driver [/Users/arunRB/.wdm/drivers/chromedriver/mac64/87.0.4280.88/chromedriver] found in cache\n"
     ]
    },
    {
     "name": "stdout",
     "output_type": "stream",
     "text": [
      "processing url 70: https://www.vikatan.com/arts/literature/138600-vel-paari-historical-hero\n",
      "\n",
      " \n",
      "loaded chapter: வீரயுக நாயகன் வேள்பாரி - 70\n",
      "writing chapter\n",
      "\n"
     ]
    },
    {
     "name": "stderr",
     "output_type": "stream",
     "text": [
      "[WDM] - Current google-chrome version is 87.0.4280\n",
      "[WDM] - Get LATEST driver version for 87.0.4280\n",
      "[WDM] - Driver [/Users/arunRB/.wdm/drivers/chromedriver/mac64/87.0.4280.88/chromedriver] found in cache\n"
     ]
    },
    {
     "name": "stdout",
     "output_type": "stream",
     "text": [
      "### Chapter Written Successfully!! : வீரயுக நாயகன் வேள்பாரி - 70\n",
      "\n",
      "------------------------------------------------------------------------\n",
      "\n",
      "processing url 71: https://www.vikatan.com/arts/literature/138807-vel-paari-historical-hero\n",
      "\n",
      " \n",
      "loaded chapter: வீரயுக நாயகன் வேள்பாரி - 71\n",
      "writing chapter\n",
      "\n"
     ]
    },
    {
     "name": "stderr",
     "output_type": "stream",
     "text": [
      "[WDM] - Current google-chrome version is 87.0.4280\n",
      "[WDM] - Get LATEST driver version for 87.0.4280\n",
      "[WDM] - Driver [/Users/arunRB/.wdm/drivers/chromedriver/mac64/87.0.4280.88/chromedriver] found in cache\n"
     ]
    },
    {
     "name": "stdout",
     "output_type": "stream",
     "text": [
      "### Chapter Written Successfully!! : வீரயுக நாயகன் வேள்பாரி - 71\n",
      "\n",
      "------------------------------------------------------------------------\n",
      "\n",
      "processing url 72: https://www.vikatan.com/arts/literature/139027-vel-paari-historical-hero\n",
      "\n",
      " \n",
      "loaded chapter: வீரயுக நாயகன் வேள்பாரி - 72\n",
      "writing chapter\n",
      "\n"
     ]
    },
    {
     "name": "stderr",
     "output_type": "stream",
     "text": [
      "[WDM] - Current google-chrome version is 87.0.4280\n",
      "[WDM] - Get LATEST driver version for 87.0.4280\n",
      "[WDM] - Driver [/Users/arunRB/.wdm/drivers/chromedriver/mac64/87.0.4280.88/chromedriver] found in cache\n"
     ]
    },
    {
     "name": "stdout",
     "output_type": "stream",
     "text": [
      "### Chapter Written Successfully!! : வீரயுக நாயகன் வேள்பாரி - 72\n",
      "\n",
      "------------------------------------------------------------------------\n",
      "\n",
      "processing url 73: https://www.vikatan.com/arts/miscellaneous/139161-vel-paari-historical-hero\n",
      "\n",
      " \n",
      "loaded chapter: வீரயுக நாயகன் வேள்பாரி - 73\n",
      "writing chapter\n",
      "\n"
     ]
    },
    {
     "name": "stderr",
     "output_type": "stream",
     "text": [
      "[WDM] - Current google-chrome version is 87.0.4280\n",
      "[WDM] - Get LATEST driver version for 87.0.4280\n",
      "[WDM] - Driver [/Users/arunRB/.wdm/drivers/chromedriver/mac64/87.0.4280.88/chromedriver] found in cache\n"
     ]
    },
    {
     "name": "stdout",
     "output_type": "stream",
     "text": [
      "### Chapter Written Successfully!! : வீரயுக நாயகன் வேள்பாரி - 73\n",
      "\n",
      "------------------------------------------------------------------------\n",
      "\n",
      "processing url 74: https://cinema.vikatan.com/literature/139328-vel-paari-historical-hero\n",
      "\n",
      " \n",
      "loaded chapter: வீரயுக நாயகன் வேள்பாரி - 74\n",
      "Did not read content!! len story_elems= 0\n",
      " ### RETRYING 2\n",
      "processing url 74: https://cinema.vikatan.com/literature/139328-vel-paari-historical-hero\n",
      "\n",
      " \n"
     ]
    },
    {
     "name": "stderr",
     "output_type": "stream",
     "text": [
      "[WDM] - Current google-chrome version is 87.0.4280\n",
      "[WDM] - Get LATEST driver version for 87.0.4280\n",
      "[WDM] - Driver [/Users/arunRB/.wdm/drivers/chromedriver/mac64/87.0.4280.88/chromedriver] found in cache\n"
     ]
    },
    {
     "name": "stdout",
     "output_type": "stream",
     "text": [
      "loaded chapter: வீரயுக நாயகன் வேள்பாரி - 74\n",
      "writing chapter\n",
      "\n"
     ]
    },
    {
     "name": "stderr",
     "output_type": "stream",
     "text": [
      "[WDM] - Current google-chrome version is 87.0.4280\n",
      "[WDM] - Get LATEST driver version for 87.0.4280\n",
      "[WDM] - Driver [/Users/arunRB/.wdm/drivers/chromedriver/mac64/87.0.4280.88/chromedriver] found in cache\n"
     ]
    },
    {
     "name": "stdout",
     "output_type": "stream",
     "text": [
      "### Chapter Written Successfully!! : வீரயுக நாயகன் வேள்பாரி - 74\n",
      "\n",
      "------------------------------------------------------------------------\n",
      "\n",
      "processing url 75: https://www.vikatan.com/arts/literature/139520-vel-paari-historical-hero\n",
      "\n",
      " \n",
      "loaded chapter: வீரயுக நாயகன் வேள்பாரி - 75\n",
      "writing chapter\n",
      "\n"
     ]
    },
    {
     "name": "stderr",
     "output_type": "stream",
     "text": [
      "[WDM] - Current google-chrome version is 87.0.4280\n",
      "[WDM] - Get LATEST driver version for 87.0.4280\n",
      "[WDM] - Driver [/Users/arunRB/.wdm/drivers/chromedriver/mac64/87.0.4280.88/chromedriver] found in cache\n"
     ]
    },
    {
     "name": "stdout",
     "output_type": "stream",
     "text": [
      "### Chapter Written Successfully!! : வீரயுக நாயகன் வேள்பாரி - 75\n",
      "\n",
      "------------------------------------------------------------------------\n",
      "\n",
      "processing url 76: https://www.vikatan.com/arts/literature/139649-vel-paari-historical-hero\n",
      "\n",
      " \n"
     ]
    },
    {
     "name": "stderr",
     "output_type": "stream",
     "text": [
      "[WDM] - Current google-chrome version is 87.0.4280\n",
      "[WDM] - Get LATEST driver version for 87.0.4280\n"
     ]
    },
    {
     "name": "stdout",
     "output_type": "stream",
     "text": [
      "loaded chapter: வீரயுக நாயகன் வேள்பாரி - 76\n",
      "Did not read content!! len story_elems= 0\n",
      " ### RETRYING 2\n",
      "processing url 76: https://www.vikatan.com/arts/literature/139649-vel-paari-historical-hero\n",
      "\n",
      " \n"
     ]
    },
    {
     "name": "stderr",
     "output_type": "stream",
     "text": [
      "[WDM] - Driver [/Users/arunRB/.wdm/drivers/chromedriver/mac64/87.0.4280.88/chromedriver] found in cache\n"
     ]
    },
    {
     "name": "stdout",
     "output_type": "stream",
     "text": [
      "loaded chapter: வீரயுக நாயகன் வேள்பாரி - 76\n",
      "writing chapter\n",
      "\n"
     ]
    },
    {
     "name": "stderr",
     "output_type": "stream",
     "text": [
      "[WDM] - Current google-chrome version is 87.0.4280\n",
      "[WDM] - Get LATEST driver version for 87.0.4280\n",
      "[WDM] - Driver [/Users/arunRB/.wdm/drivers/chromedriver/mac64/87.0.4280.88/chromedriver] found in cache\n"
     ]
    },
    {
     "name": "stdout",
     "output_type": "stream",
     "text": [
      "### Chapter Written Successfully!! : வீரயுக நாயகன் வேள்பாரி - 76\n",
      "\n",
      "------------------------------------------------------------------------\n",
      "\n",
      "processing url 77: https://www.vikatan.com/arts/literature/139931-vel-paari-historical-hero\n",
      "\n",
      " \n",
      "loaded chapter: வீரயுக நாயகன் வேள்பாரி - 77\n",
      "Did not read content!! len story_elems= 0\n",
      " ### RETRYING 2\n",
      "processing url 77: https://www.vikatan.com/arts/literature/139931-vel-paari-historical-hero\n",
      "\n"
     ]
    },
    {
     "name": "stderr",
     "output_type": "stream",
     "text": [
      "[WDM] - Current google-chrome version is 87.0.4280\n",
      "[WDM] - Get LATEST driver version for 87.0.4280\n",
      "[WDM] - Driver [/Users/arunRB/.wdm/drivers/chromedriver/mac64/87.0.4280.88/chromedriver] found in cache\n"
     ]
    },
    {
     "name": "stdout",
     "output_type": "stream",
     "text": [
      " \n",
      "loaded chapter: வீரயுக நாயகன் வேள்பாரி - 77\n",
      "writing chapter\n",
      "\n"
     ]
    },
    {
     "name": "stderr",
     "output_type": "stream",
     "text": [
      "[WDM] - Current google-chrome version is 87.0.4280\n",
      "[WDM] - Get LATEST driver version for 87.0.4280\n",
      "[WDM] - Driver [/Users/arunRB/.wdm/drivers/chromedriver/mac64/87.0.4280.88/chromedriver] found in cache\n"
     ]
    },
    {
     "name": "stdout",
     "output_type": "stream",
     "text": [
      "### Chapter Written Successfully!! : வீரயுக நாயகன் வேள்பாரி - 77\n",
      "\n",
      "------------------------------------------------------------------------\n",
      "\n",
      "processing url 78: https://www.vikatan.com/arts/literature/140073-vel-paari-historical-hero\n",
      "\n",
      " \n",
      "loaded chapter: வீரயுக நாயகன் வேள்பாரி - 78\n",
      "Did not read content!! len story_elems= 0\n",
      " ### RETRYING 2\n",
      "processing url 78: https://www.vikatan.com/arts/literature/140073-vel-paari-historical-hero\n",
      "\n"
     ]
    },
    {
     "name": "stderr",
     "output_type": "stream",
     "text": [
      "[WDM] - Current google-chrome version is 87.0.4280\n",
      "[WDM] - Get LATEST driver version for 87.0.4280\n",
      "[WDM] - Driver [/Users/arunRB/.wdm/drivers/chromedriver/mac64/87.0.4280.88/chromedriver] found in cache\n"
     ]
    },
    {
     "name": "stdout",
     "output_type": "stream",
     "text": [
      " \n",
      "loaded chapter: வீரயுக நாயகன் வேள்பாரி - 78\n",
      "writing chapter\n",
      "\n"
     ]
    },
    {
     "name": "stderr",
     "output_type": "stream",
     "text": [
      "[WDM] - Current google-chrome version is 87.0.4280\n",
      "[WDM] - Get LATEST driver version for 87.0.4280\n",
      "[WDM] - Driver [/Users/arunRB/.wdm/drivers/chromedriver/mac64/87.0.4280.88/chromedriver] found in cache\n"
     ]
    },
    {
     "name": "stdout",
     "output_type": "stream",
     "text": [
      "### Chapter Written Successfully!! : வீரயுக நாயகன் வேள்பாரி - 78\n",
      "\n",
      "------------------------------------------------------------------------\n",
      "\n",
      "processing url 79: https://www.vikatan.com/news/literature/140285-vel-paari-historical-hero\n",
      "\n",
      " \n",
      "loaded chapter: வீரயுக நாயகன் வேள்பாரி - 79\n",
      "writing chapter\n",
      "\n"
     ]
    },
    {
     "name": "stderr",
     "output_type": "stream",
     "text": [
      "[WDM] - Current google-chrome version is 87.0.4280\n",
      "[WDM] - Get LATEST driver version for 87.0.4280\n",
      "[WDM] - Driver [/Users/arunRB/.wdm/drivers/chromedriver/mac64/87.0.4280.88/chromedriver] found in cache\n"
     ]
    },
    {
     "name": "stdout",
     "output_type": "stream",
     "text": [
      "### Chapter Written Successfully!! : வீரயுக நாயகன் வேள்பாரி - 79\n",
      "\n",
      "------------------------------------------------------------------------\n",
      "\n",
      "processing url 80: https://www.vikatan.com/arts/literature/140439-vel-paari-historical-hero\n",
      "\n",
      " \n",
      "loaded chapter: வீரயுக நாயகன் வேள்பாரி - 80\n",
      "writing chapter\n",
      "\n"
     ]
    },
    {
     "name": "stderr",
     "output_type": "stream",
     "text": [
      "[WDM] - Current google-chrome version is 87.0.4280\n",
      "[WDM] - Get LATEST driver version for 87.0.4280\n",
      "[WDM] - Driver [/Users/arunRB/.wdm/drivers/chromedriver/mac64/87.0.4280.88/chromedriver] found in cache\n"
     ]
    },
    {
     "name": "stdout",
     "output_type": "stream",
     "text": [
      "### Chapter Written Successfully!! : வீரயுக நாயகன் வேள்பாரி - 80\n",
      "\n",
      "------------------------------------------------------------------------\n",
      "\n",
      "processing url 81: https://www.vikatan.com/arts/literature/140668-vel-paari-historical-hero\n",
      "\n",
      " \n"
     ]
    },
    {
     "name": "stderr",
     "output_type": "stream",
     "text": [
      "[WDM] - Current google-chrome version is 87.0.4280\n",
      "[WDM] - Get LATEST driver version for 87.0.4280\n"
     ]
    },
    {
     "name": "stdout",
     "output_type": "stream",
     "text": [
      "loaded chapter: வீரயுக நாயகன் வேள்பாரி - 81\n",
      "Did not read content!! len story_elems= 0\n",
      " ### RETRYING 2\n",
      "processing url 81: https://www.vikatan.com/arts/literature/140668-vel-paari-historical-hero\n",
      "\n",
      " \n"
     ]
    },
    {
     "name": "stderr",
     "output_type": "stream",
     "text": [
      "[WDM] - Driver [/Users/arunRB/.wdm/drivers/chromedriver/mac64/87.0.4280.88/chromedriver] found in cache\n"
     ]
    },
    {
     "name": "stdout",
     "output_type": "stream",
     "text": [
      "loaded chapter: வீரயுக நாயகன் வேள்பாரி - 81\n",
      "writing chapter\n",
      "\n"
     ]
    },
    {
     "name": "stderr",
     "output_type": "stream",
     "text": [
      "[WDM] - Current google-chrome version is 87.0.4280\n",
      "[WDM] - Get LATEST driver version for 87.0.4280\n",
      "[WDM] - Driver [/Users/arunRB/.wdm/drivers/chromedriver/mac64/87.0.4280.88/chromedriver] found in cache\n"
     ]
    },
    {
     "name": "stdout",
     "output_type": "stream",
     "text": [
      "### Chapter Written Successfully!! : வீரயுக நாயகன் வேள்பாரி - 81\n",
      "\n",
      "------------------------------------------------------------------------\n",
      "\n",
      "processing url 82: https://www.vikatan.com/arts/literature/140803-vel-paari-historical-hero\n",
      "\n",
      " \n",
      "loaded chapter: வீரயுக நாயகன் வேள்பாரி - 82\n",
      "writing chapter\n",
      "\n"
     ]
    },
    {
     "name": "stderr",
     "output_type": "stream",
     "text": [
      "[WDM] - Current google-chrome version is 87.0.4280\n",
      "[WDM] - Get LATEST driver version for 87.0.4280\n",
      "[WDM] - Driver [/Users/arunRB/.wdm/drivers/chromedriver/mac64/87.0.4280.88/chromedriver] found in cache\n"
     ]
    },
    {
     "name": "stdout",
     "output_type": "stream",
     "text": [
      "### Chapter Written Successfully!! : வீரயுக நாயகன் வேள்பாரி - 82\n",
      "\n",
      "------------------------------------------------------------------------\n",
      "\n",
      "processing url 83: https://www.vikatan.com/arts/literature/140983-vel-paari-historical-hero\n",
      "\n",
      " \n",
      "loaded chapter: வீரயுக நாயகன் வேள்பாரி - 83\n",
      "writing chapter\n",
      "\n"
     ]
    },
    {
     "name": "stderr",
     "output_type": "stream",
     "text": [
      "[WDM] - Current google-chrome version is 87.0.4280\n",
      "[WDM] - Get LATEST driver version for 87.0.4280\n",
      "[WDM] - Driver [/Users/arunRB/.wdm/drivers/chromedriver/mac64/87.0.4280.88/chromedriver] found in cache\n"
     ]
    },
    {
     "name": "stdout",
     "output_type": "stream",
     "text": [
      "### Chapter Written Successfully!! : வீரயுக நாயகன் வேள்பாரி - 83\n",
      "\n",
      "------------------------------------------------------------------------\n",
      "\n",
      "processing url 84: https://www.vikatan.com/arts/literature/141098-vel-paari-historical-hero\n",
      "\n",
      " \n",
      "loaded chapter: வீரயுக நாயகன் வேள்பாரி - 84\n",
      "writing chapter\n",
      "\n"
     ]
    },
    {
     "name": "stderr",
     "output_type": "stream",
     "text": [
      "[WDM] - Current google-chrome version is 87.0.4280\n",
      "[WDM] - Get LATEST driver version for 87.0.4280\n",
      "[WDM] - Driver [/Users/arunRB/.wdm/drivers/chromedriver/mac64/87.0.4280.88/chromedriver] found in cache\n"
     ]
    },
    {
     "name": "stdout",
     "output_type": "stream",
     "text": [
      "### Chapter Written Successfully!! : வீரயுக நாயகன் வேள்பாரி - 84\n",
      "\n",
      "------------------------------------------------------------------------\n",
      "\n",
      "processing url 85: https://www.vikatan.com/arts/literature/141269-vel-paari-historical-hero\n",
      "\n",
      " \n",
      "loaded chapter: வீரயுக நாயகன் வேள்பாரி - 85\n",
      "writing chapter\n",
      "\n"
     ]
    },
    {
     "name": "stderr",
     "output_type": "stream",
     "text": [
      "[WDM] - Current google-chrome version is 87.0.4280\n",
      "[WDM] - Get LATEST driver version for 87.0.4280\n",
      "[WDM] - Driver [/Users/arunRB/.wdm/drivers/chromedriver/mac64/87.0.4280.88/chromedriver] found in cache\n"
     ]
    },
    {
     "name": "stdout",
     "output_type": "stream",
     "text": [
      "### Chapter Written Successfully!! : வீரயுக நாயகன் வேள்பாரி - 85\n",
      "\n",
      "------------------------------------------------------------------------\n",
      "\n",
      "processing url 86: https://www.vikatan.com/arts/literature/141532-vel-paari-historical-hero\n",
      "\n",
      " \n",
      "loaded chapter: வீரயுக நாயகன் வேள்பாரி - 86\n",
      "writing chapter\n",
      "\n"
     ]
    },
    {
     "name": "stderr",
     "output_type": "stream",
     "text": [
      "[WDM] - Current google-chrome version is 87.0.4280\n",
      "[WDM] - Get LATEST driver version for 87.0.4280\n",
      "[WDM] - Driver [/Users/arunRB/.wdm/drivers/chromedriver/mac64/87.0.4280.88/chromedriver] found in cache\n"
     ]
    },
    {
     "name": "stdout",
     "output_type": "stream",
     "text": [
      "### Chapter Written Successfully!! : வீரயுக நாயகன் வேள்பாரி - 86\n",
      "\n",
      "------------------------------------------------------------------------\n",
      "\n",
      "processing url 87: https://www.vikatan.com/arts/miscellaneous/141711-vel-paari-historical-hero\n",
      "\n",
      " \n"
     ]
    },
    {
     "name": "stderr",
     "output_type": "stream",
     "text": [
      "[WDM] - Current google-chrome version is 87.0.4280\n",
      "[WDM] - Get LATEST driver version for 87.0.4280\n"
     ]
    },
    {
     "name": "stdout",
     "output_type": "stream",
     "text": [
      "loaded chapter: வீரயுக நாயகன் வேள்பாரி - 87\n",
      "Did not read content!! len story_elems= 0\n",
      " ### RETRYING 2\n",
      "processing url 87: https://www.vikatan.com/arts/miscellaneous/141711-vel-paari-historical-hero\n",
      "\n",
      " \n"
     ]
    },
    {
     "name": "stderr",
     "output_type": "stream",
     "text": [
      "[WDM] - Driver [/Users/arunRB/.wdm/drivers/chromedriver/mac64/87.0.4280.88/chromedriver] found in cache\n"
     ]
    },
    {
     "name": "stdout",
     "output_type": "stream",
     "text": [
      "loaded chapter: வீரயுக நாயகன் வேள்பாரி - 87\n",
      "writing chapter\n",
      "\n"
     ]
    },
    {
     "name": "stderr",
     "output_type": "stream",
     "text": [
      "[WDM] - Current google-chrome version is 87.0.4280\n",
      "[WDM] - Get LATEST driver version for 87.0.4280\n",
      "[WDM] - Driver [/Users/arunRB/.wdm/drivers/chromedriver/mac64/87.0.4280.88/chromedriver] found in cache\n"
     ]
    },
    {
     "name": "stdout",
     "output_type": "stream",
     "text": [
      "### Chapter Written Successfully!! : வீரயுக நாயகன் வேள்பாரி - 87\n",
      "\n",
      "------------------------------------------------------------------------\n",
      "\n",
      "processing url 88: https://www.vikatan.com/arts/literature/141863-vel-paari-historical-hero\n",
      "\n",
      " \n",
      "loaded chapter: வீரயுக நாயகன் வேள்பாரி - 88\n",
      "writing chapter\n",
      "\n"
     ]
    },
    {
     "name": "stderr",
     "output_type": "stream",
     "text": [
      "[WDM] - Current google-chrome version is 87.0.4280\n",
      "[WDM] - Get LATEST driver version for 87.0.4280\n",
      "[WDM] - Driver [/Users/arunRB/.wdm/drivers/chromedriver/mac64/87.0.4280.88/chromedriver] found in cache\n"
     ]
    },
    {
     "name": "stdout",
     "output_type": "stream",
     "text": [
      "### Chapter Written Successfully!! : வீரயுக நாயகன் வேள்பாரி - 88\n",
      "\n",
      "------------------------------------------------------------------------\n",
      "\n",
      "processing url 89: https://www.vikatan.com/arts/miscellaneous/142042-vel-paari-historical-hero\n",
      "\n",
      " \n",
      "loaded chapter: வீரயுக நாயகன் வேள்பாரி - 89\n",
      "writing chapter\n",
      "\n"
     ]
    },
    {
     "name": "stderr",
     "output_type": "stream",
     "text": [
      "[WDM] - Current google-chrome version is 87.0.4280\n",
      "[WDM] - Get LATEST driver version for 87.0.4280\n",
      "[WDM] - Driver [/Users/arunRB/.wdm/drivers/chromedriver/mac64/87.0.4280.88/chromedriver] found in cache\n"
     ]
    },
    {
     "name": "stdout",
     "output_type": "stream",
     "text": [
      "### Chapter Written Successfully!! : வீரயுக நாயகன் வேள்பாரி - 89\n",
      "\n",
      "------------------------------------------------------------------------\n",
      "\n",
      "processing url 90: https://www.vikatan.com/arts/miscellaneous/142281-vel-paari-historical-hero\n",
      "\n",
      " \n",
      "loaded chapter: வீரயுக நாயகன் வேள்பாரி - 90\n",
      "writing chapter\n",
      "\n"
     ]
    },
    {
     "name": "stderr",
     "output_type": "stream",
     "text": [
      "[WDM] - Current google-chrome version is 87.0.4280\n",
      "[WDM] - Get LATEST driver version for 87.0.4280\n",
      "[WDM] - Driver [/Users/arunRB/.wdm/drivers/chromedriver/mac64/87.0.4280.88/chromedriver] found in cache\n"
     ]
    },
    {
     "name": "stdout",
     "output_type": "stream",
     "text": [
      "### Chapter Written Successfully!! : வீரயுக நாயகன் வேள்பாரி - 90\n",
      "\n",
      "------------------------------------------------------------------------\n",
      "\n",
      "processing url 91: https://www.vikatan.com/arts/miscellaneous/142467-vel-paari-historical-hero\n",
      "\n",
      " \n",
      "loaded chapter: வீரயுக நாயகன் வேள்பாரி - 91\n",
      "writing chapter\n",
      "\n"
     ]
    },
    {
     "name": "stderr",
     "output_type": "stream",
     "text": [
      "[WDM] - Current google-chrome version is 87.0.4280\n",
      "[WDM] - Get LATEST driver version for 87.0.4280\n",
      "[WDM] - Driver [/Users/arunRB/.wdm/drivers/chromedriver/mac64/87.0.4280.88/chromedriver] found in cache\n"
     ]
    },
    {
     "name": "stdout",
     "output_type": "stream",
     "text": [
      "### Chapter Written Successfully!! : வீரயுக நாயகன் வேள்பாரி - 91\n",
      "\n",
      "------------------------------------------------------------------------\n",
      "\n",
      "processing url 92: https://www.vikatan.com/arts/miscellaneous/142645-vel-paari-historical-hero\n",
      "\n",
      " \n",
      "loaded chapter: வீரயுக நாயகன் வேள்பாரி - 92\n",
      "writing chapter\n",
      "\n"
     ]
    },
    {
     "name": "stderr",
     "output_type": "stream",
     "text": [
      "[WDM] - Current google-chrome version is 87.0.4280\n",
      "[WDM] - Get LATEST driver version for 87.0.4280\n",
      "[WDM] - Driver [/Users/arunRB/.wdm/drivers/chromedriver/mac64/87.0.4280.88/chromedriver] found in cache\n"
     ]
    },
    {
     "name": "stdout",
     "output_type": "stream",
     "text": [
      "### Chapter Written Successfully!! : வீரயுக நாயகன் வேள்பாரி - 92\n",
      "\n",
      "------------------------------------------------------------------------\n",
      "\n",
      "processing url 93: https://www.vikatan.com/arts/miscellaneous/142816-vel-paari-historical-hero\n",
      "\n",
      " \n",
      "loaded chapter: வீரயுக நாயகன் வேள்பாரி - 93\n",
      "writing chapter\n",
      "\n"
     ]
    },
    {
     "name": "stderr",
     "output_type": "stream",
     "text": [
      "[WDM] - Current google-chrome version is 87.0.4280\n",
      "[WDM] - Get LATEST driver version for 87.0.4280\n"
     ]
    },
    {
     "name": "stdout",
     "output_type": "stream",
     "text": [
      "### Chapter Written Successfully!! : வீரயுக நாயகன் வேள்பாரி - 93\n",
      "\n",
      "------------------------------------------------------------------------\n",
      "\n",
      "processing url 94: https://www.vikatan.com/arts/miscellaneous/143083-vel-paari-historical-hero\n",
      "\n",
      " \n"
     ]
    },
    {
     "name": "stderr",
     "output_type": "stream",
     "text": [
      "[WDM] - Driver [/Users/arunRB/.wdm/drivers/chromedriver/mac64/87.0.4280.88/chromedriver] found in cache\n"
     ]
    },
    {
     "name": "stdout",
     "output_type": "stream",
     "text": [
      "loaded chapter: வீரயுக நாயகன் வேள்பாரி - 94\n",
      "writing chapter\n",
      "\n"
     ]
    },
    {
     "name": "stderr",
     "output_type": "stream",
     "text": [
      "[WDM] - Current google-chrome version is 87.0.4280\n",
      "[WDM] - Get LATEST driver version for 87.0.4280\n"
     ]
    },
    {
     "name": "stdout",
     "output_type": "stream",
     "text": [
      "### Chapter Written Successfully!! : வீரயுக நாயகன் வேள்பாரி - 94\n",
      "\n",
      "------------------------------------------------------------------------\n",
      "\n",
      "processing url 95: https://www.vikatan.com/arts/literature/143213-vel-paari-historical-hero\n",
      "\n",
      " \n"
     ]
    },
    {
     "name": "stderr",
     "output_type": "stream",
     "text": [
      "[WDM] - Driver [/Users/arunRB/.wdm/drivers/chromedriver/mac64/87.0.4280.88/chromedriver] found in cache\n"
     ]
    },
    {
     "name": "stdout",
     "output_type": "stream",
     "text": [
      "loaded chapter: வீரயுக நாயகன் வேள்பாரி - 95\n",
      "writing chapter\n",
      "\n"
     ]
    },
    {
     "name": "stderr",
     "output_type": "stream",
     "text": [
      "[WDM] - Current google-chrome version is 87.0.4280\n",
      "[WDM] - Get LATEST driver version for 87.0.4280\n",
      "[WDM] - Driver [/Users/arunRB/.wdm/drivers/chromedriver/mac64/87.0.4280.88/chromedriver] found in cache\n"
     ]
    },
    {
     "name": "stdout",
     "output_type": "stream",
     "text": [
      "### Chapter Written Successfully!! : வீரயுக நாயகன் வேள்பாரி - 95\n",
      "\n",
      "------------------------------------------------------------------------\n",
      "\n",
      "processing url 96: https://www.vikatan.com/arts/literature/143408-vel-paari-historical-hero\n",
      "\n",
      " \n",
      "loaded chapter: வீரயுக நாயகன் வேள்பாரி - 96\n",
      "Did not read content!! len story_elems= 0\n",
      " ### RETRYING 2\n",
      "processing url 96: https://www.vikatan.com/arts/literature/143408-vel-paari-historical-hero\n",
      "\n"
     ]
    },
    {
     "name": "stderr",
     "output_type": "stream",
     "text": [
      "[WDM] - Current google-chrome version is 87.0.4280\n",
      "[WDM] - Get LATEST driver version for 87.0.4280\n",
      "[WDM] - Driver [/Users/arunRB/.wdm/drivers/chromedriver/mac64/87.0.4280.88/chromedriver] found in cache\n"
     ]
    },
    {
     "name": "stdout",
     "output_type": "stream",
     "text": [
      " \n",
      "loaded chapter: வீரயுக நாயகன் வேள்பாரி - 96\n",
      "writing chapter\n",
      "\n"
     ]
    },
    {
     "name": "stderr",
     "output_type": "stream",
     "text": [
      "[WDM] - Current google-chrome version is 87.0.4280\n",
      "[WDM] - Get LATEST driver version for 87.0.4280\n",
      "[WDM] - Driver [/Users/arunRB/.wdm/drivers/chromedriver/mac64/87.0.4280.88/chromedriver] found in cache\n"
     ]
    },
    {
     "name": "stdout",
     "output_type": "stream",
     "text": [
      "### Chapter Written Successfully!! : வீரயுக நாயகன் வேள்பாரி - 96\n",
      "\n",
      "------------------------------------------------------------------------\n",
      "\n",
      "processing url 97: https://www.vikatan.com/arts/literature/143551-vel-paari-historical-hero\n",
      "\n",
      " \n",
      "loaded chapter: வீரயுக நாயகன் வேள்பாரி - 97\n",
      "writing chapter\n",
      "\n"
     ]
    },
    {
     "name": "stderr",
     "output_type": "stream",
     "text": [
      "[WDM] - Current google-chrome version is 87.0.4280\n",
      "[WDM] - Get LATEST driver version for 87.0.4280\n",
      "[WDM] - Driver [/Users/arunRB/.wdm/drivers/chromedriver/mac64/87.0.4280.88/chromedriver] found in cache\n"
     ]
    },
    {
     "name": "stdout",
     "output_type": "stream",
     "text": [
      "### Chapter Written Successfully!! : வீரயுக நாயகன் வேள்பாரி - 97\n",
      "\n",
      "------------------------------------------------------------------------\n",
      "\n",
      "processing url 98: https://www.vikatan.com/arts/literature/143754-vel-paari-historical-hero\n",
      "\n",
      " \n",
      "loaded chapter: வீரயுக நாயகன் வேள்பாரி - 98\n",
      "writing chapter\n",
      "\n"
     ]
    },
    {
     "name": "stderr",
     "output_type": "stream",
     "text": [
      "[WDM] - Current google-chrome version is 87.0.4280\n",
      "[WDM] - Get LATEST driver version for 87.0.4280\n",
      "[WDM] - Driver [/Users/arunRB/.wdm/drivers/chromedriver/mac64/87.0.4280.88/chromedriver] found in cache\n"
     ]
    },
    {
     "name": "stdout",
     "output_type": "stream",
     "text": [
      "### Chapter Written Successfully!! : வீரயுக நாயகன் வேள்பாரி - 98\n",
      "\n",
      "------------------------------------------------------------------------\n",
      "\n",
      "processing url 99: https://www.vikatan.com/arts/literature/143939-vel-paari-historical-hero\n",
      "\n",
      " \n",
      "loaded chapter: வீரயுக நாயகன் வேள்பாரி - 99\n",
      "writing chapter\n",
      "\n"
     ]
    },
    {
     "name": "stderr",
     "output_type": "stream",
     "text": [
      "[WDM] - Current google-chrome version is 87.0.4280\n",
      "[WDM] - Get LATEST driver version for 87.0.4280\n",
      "[WDM] - Driver [/Users/arunRB/.wdm/drivers/chromedriver/mac64/87.0.4280.88/chromedriver] found in cache\n"
     ]
    },
    {
     "name": "stdout",
     "output_type": "stream",
     "text": [
      "### Chapter Written Successfully!! : வீரயுக நாயகன் வேள்பாரி - 99\n",
      "\n",
      "------------------------------------------------------------------------\n",
      "\n",
      "processing url 100: https://www.vikatan.com/arts/literature/144097-vel-paari-historical-hero\n",
      "\n",
      " \n"
     ]
    },
    {
     "name": "stderr",
     "output_type": "stream",
     "text": [
      "[WDM] - Current google-chrome version is 87.0.4280\n"
     ]
    },
    {
     "name": "stdout",
     "output_type": "stream",
     "text": [
      "loaded chapter: வீரயுக நாயகன் வேள்பாரி - 100\n",
      "Did not read content!! len story_elems= 0\n",
      " ### RETRYING 2\n",
      "processing url 100: https://www.vikatan.com/arts/literature/144097-vel-paari-historical-hero\n",
      "\n",
      " \n"
     ]
    },
    {
     "name": "stderr",
     "output_type": "stream",
     "text": [
      "[WDM] - Get LATEST driver version for 87.0.4280\n",
      "[WDM] - Driver [/Users/arunRB/.wdm/drivers/chromedriver/mac64/87.0.4280.88/chromedriver] found in cache\n"
     ]
    },
    {
     "name": "stdout",
     "output_type": "stream",
     "text": [
      "loaded chapter: வீரயுக நாயகன் வேள்பாரி - 100\n",
      "writing chapter\n",
      "\n"
     ]
    },
    {
     "name": "stderr",
     "output_type": "stream",
     "text": [
      "[WDM] - Current google-chrome version is 87.0.4280\n",
      "[WDM] - Get LATEST driver version for 87.0.4280\n",
      "[WDM] - Driver [/Users/arunRB/.wdm/drivers/chromedriver/mac64/87.0.4280.88/chromedriver] found in cache\n"
     ]
    },
    {
     "name": "stdout",
     "output_type": "stream",
     "text": [
      "### Chapter Written Successfully!! : வீரயுக நாயகன் வேள்பாரி - 100\n",
      "\n",
      "------------------------------------------------------------------------\n",
      "\n",
      "processing url 101: https://www.vikatan.com/arts/literature/144328-vel-paari-historical-hero\n",
      "\n",
      " \n",
      "loaded chapter: வீரயுக நாயகன் வேள்பாரி - 101\n",
      "writing chapter\n",
      "\n"
     ]
    },
    {
     "name": "stderr",
     "output_type": "stream",
     "text": [
      "[WDM] - Current google-chrome version is 87.0.4280\n",
      "[WDM] - Get LATEST driver version for 87.0.4280\n",
      "[WDM] - Driver [/Users/arunRB/.wdm/drivers/chromedriver/mac64/87.0.4280.88/chromedriver] found in cache\n"
     ]
    },
    {
     "name": "stdout",
     "output_type": "stream",
     "text": [
      "### Chapter Written Successfully!! : வீரயுக நாயகன் வேள்பாரி - 101\n",
      "\n",
      "------------------------------------------------------------------------\n",
      "\n",
      "processing url 102: https://www.vikatan.com/arts/literature/144521-vel-paari-historical-hero\n",
      "\n",
      " \n",
      "loaded chapter: வீரயுக நாயகன் வேள்பாரி - 102\n",
      "writing chapter\n",
      "\n"
     ]
    },
    {
     "name": "stderr",
     "output_type": "stream",
     "text": [
      "[WDM] - Current google-chrome version is 87.0.4280\n",
      "[WDM] - Get LATEST driver version for 87.0.4280\n",
      "[WDM] - Driver [/Users/arunRB/.wdm/drivers/chromedriver/mac64/87.0.4280.88/chromedriver] found in cache\n"
     ]
    },
    {
     "name": "stdout",
     "output_type": "stream",
     "text": [
      "### Chapter Written Successfully!! : வீரயுக நாயகன் வேள்பாரி - 102\n",
      "\n",
      "------------------------------------------------------------------------\n",
      "\n",
      "processing url 103: https://www.vikatan.com/arts/literature/144779-vel-paari-historical-hero\n",
      "\n",
      " \n",
      "loaded chapter: வீரயுக நாயகன் வேள்பாரி - 103\n",
      "writing chapter\n",
      "\n"
     ]
    },
    {
     "name": "stderr",
     "output_type": "stream",
     "text": [
      "[WDM] - Current google-chrome version is 87.0.4280\n",
      "[WDM] - Get LATEST driver version for 87.0.4280\n"
     ]
    },
    {
     "name": "stdout",
     "output_type": "stream",
     "text": [
      "### Chapter Written Successfully!! : வீரயுக நாயகன் வேள்பாரி - 103\n",
      "\n",
      "------------------------------------------------------------------------\n",
      "\n",
      "processing url 104: https://www.vikatan.com/arts/literature/144967-vel-paari-historical-hero\n",
      "\n",
      " \n"
     ]
    },
    {
     "name": "stderr",
     "output_type": "stream",
     "text": [
      "[WDM] - Driver [/Users/arunRB/.wdm/drivers/chromedriver/mac64/87.0.4280.88/chromedriver] found in cache\n"
     ]
    },
    {
     "name": "stdout",
     "output_type": "stream",
     "text": [
      "loaded chapter: வீரயுக நாயகன் வேள்பாரி - 104\n",
      "writing chapter\n",
      "\n"
     ]
    },
    {
     "name": "stderr",
     "output_type": "stream",
     "text": [
      "[WDM] - Current google-chrome version is 87.0.4280\n",
      "[WDM] - Get LATEST driver version for 87.0.4280\n",
      "[WDM] - Driver [/Users/arunRB/.wdm/drivers/chromedriver/mac64/87.0.4280.88/chromedriver] found in cache\n"
     ]
    },
    {
     "name": "stdout",
     "output_type": "stream",
     "text": [
      "### Chapter Written Successfully!! : வீரயுக நாயகன் வேள்பாரி - 104\n",
      "\n",
      "------------------------------------------------------------------------\n",
      "\n",
      "processing url 105: https://www.vikatan.com/arts/literature/145269-vel-paari-historical-hero\n",
      "\n",
      " \n",
      "loaded chapter: வீரயுக நாயகன் வேள்பாரி - 105\n",
      "writing chapter\n",
      "\n"
     ]
    },
    {
     "name": "stderr",
     "output_type": "stream",
     "text": [
      "[WDM] - Current google-chrome version is 87.0.4280\n",
      "[WDM] - Get LATEST driver version for 87.0.4280\n",
      "[WDM] - Driver [/Users/arunRB/.wdm/drivers/chromedriver/mac64/87.0.4280.88/chromedriver] found in cache\n"
     ]
    },
    {
     "name": "stdout",
     "output_type": "stream",
     "text": [
      "### Chapter Written Successfully!! : வீரயுக நாயகன் வேள்பாரி - 105\n",
      "\n",
      "------------------------------------------------------------------------\n",
      "\n",
      "processing url 106: https://www.vikatan.com/arts/literature/145372-vel-paari-historical-hero\n",
      "\n",
      " \n",
      "loaded chapter: வீரயுக நாயகன் வேள்பாரி - 106\n",
      "writing chapter\n",
      "\n"
     ]
    },
    {
     "name": "stderr",
     "output_type": "stream",
     "text": [
      "[WDM] - Current google-chrome version is 87.0.4280\n",
      "[WDM] - Get LATEST driver version for 87.0.4280\n",
      "[WDM] - Driver [/Users/arunRB/.wdm/drivers/chromedriver/mac64/87.0.4280.88/chromedriver] found in cache\n"
     ]
    },
    {
     "name": "stdout",
     "output_type": "stream",
     "text": [
      "### Chapter Written Successfully!! : வீரயுக நாயகன் வேள்பாரி - 106\n",
      "\n",
      "------------------------------------------------------------------------\n",
      "\n",
      "processing url 107: https://www.vikatan.com/arts/literature/145666-vel-paari-historical-hero\n",
      "\n",
      " \n",
      "loaded chapter: வீரயுக நாயகன் வேள்பாரி - 107\n",
      "writing chapter\n",
      "\n"
     ]
    },
    {
     "name": "stderr",
     "output_type": "stream",
     "text": [
      "[WDM] - Current google-chrome version is 87.0.4280\n",
      "[WDM] - Get LATEST driver version for 87.0.4280\n"
     ]
    },
    {
     "name": "stdout",
     "output_type": "stream",
     "text": [
      "### Chapter Written Successfully!! : வீரயுக நாயகன் வேள்பாரி - 107\n",
      "\n",
      "------------------------------------------------------------------------\n",
      "\n",
      "processing url 108: https://www.vikatan.com/arts/literature/145759-vel-paari-historical-hero\n",
      "\n",
      " \n"
     ]
    },
    {
     "name": "stderr",
     "output_type": "stream",
     "text": [
      "[WDM] - Driver [/Users/arunRB/.wdm/drivers/chromedriver/mac64/87.0.4280.88/chromedriver] found in cache\n"
     ]
    },
    {
     "name": "stdout",
     "output_type": "stream",
     "text": [
      "loaded chapter: வீரயுக நாயகன் வேள்பாரி - 108\n",
      "writing chapter\n",
      "\n"
     ]
    },
    {
     "name": "stderr",
     "output_type": "stream",
     "text": [
      "[WDM] - Current google-chrome version is 87.0.4280\n",
      "[WDM] - Get LATEST driver version for 87.0.4280\n"
     ]
    },
    {
     "name": "stdout",
     "output_type": "stream",
     "text": [
      "### Chapter Written Successfully!! : வீரயுக நாயகன் வேள்பாரி - 108\n",
      "\n",
      "------------------------------------------------------------------------\n",
      "\n",
      "processing url 109: https://www.vikatan.com/arts/literature/145963-vel-paari-historical-hero\n",
      "\n",
      " \n"
     ]
    },
    {
     "name": "stderr",
     "output_type": "stream",
     "text": [
      "[WDM] - Driver [/Users/arunRB/.wdm/drivers/chromedriver/mac64/87.0.4280.88/chromedriver] found in cache\n",
      "[WDM] - Current google-chrome version is 87.0.4280\n",
      "[WDM] - Get LATEST driver version for 87.0.4280\n",
      "[WDM] - Driver [/Users/arunRB/.wdm/drivers/chromedriver/mac64/87.0.4280.88/chromedriver] found in cache\n"
     ]
    },
    {
     "name": "stdout",
     "output_type": "stream",
     "text": [
      "loaded chapter: வீரயுக நாயகன் வேள்பாரி - 109\n",
      "Did not read content!! len story_elems= 0\n",
      " ### RETRYING 2\n",
      "processing url 109: https://www.vikatan.com/arts/literature/145963-vel-paari-historical-hero\n",
      "\n",
      " \n",
      "loaded chapter: வீரயுக நாயகன் வேள்பாரி - 109\n",
      "writing chapter\n",
      "\n"
     ]
    },
    {
     "name": "stderr",
     "output_type": "stream",
     "text": [
      "[WDM] - Current google-chrome version is 87.0.4280\n",
      "[WDM] - Get LATEST driver version for 87.0.4280\n",
      "[WDM] - Driver [/Users/arunRB/.wdm/drivers/chromedriver/mac64/87.0.4280.88/chromedriver] found in cache\n"
     ]
    },
    {
     "name": "stdout",
     "output_type": "stream",
     "text": [
      "### Chapter Written Successfully!! : வீரயுக நாயகன் வேள்பாரி - 109\n",
      "\n",
      "------------------------------------------------------------------------\n",
      "\n",
      "processing url 110: https://www.vikatan.com/arts/literature/146129-vel-paari-historical-hero\n",
      "\n",
      " \n",
      "loaded chapter: வீரயுக நாயகன் வேள்பாரி - 110\n",
      "writing chapter\n",
      "\n"
     ]
    },
    {
     "name": "stderr",
     "output_type": "stream",
     "text": [
      "[WDM] - Current google-chrome version is 87.0.4280\n",
      "[WDM] - Get LATEST driver version for 87.0.4280\n"
     ]
    },
    {
     "name": "stdout",
     "output_type": "stream",
     "text": [
      "### Chapter Written Successfully!! : வீரயுக நாயகன் வேள்பாரி - 110\n",
      "\n",
      "------------------------------------------------------------------------\n",
      "\n",
      "processing url 111: https://www.vikatan.com/arts/literature/146278-vel-paari-historical-hero\n",
      "\n",
      " \n"
     ]
    },
    {
     "name": "stderr",
     "output_type": "stream",
     "text": [
      "[WDM] - Driver [/Users/arunRB/.wdm/drivers/chromedriver/mac64/87.0.4280.88/chromedriver] found in cache\n"
     ]
    },
    {
     "name": "stdout",
     "output_type": "stream",
     "text": [
      "loaded chapter: வீரயுக நாயகன் வேள்பாரி - 111\n",
      "writing chapter\n",
      "\n",
      "### Chapter Written Successfully!! : வீரயுக நாயகன் வேள்பாரி - 111\n",
      "\n",
      "------------------------------------------------------------------------\n",
      "\n"
     ]
    }
   ],
   "source": [
    "def main():\n",
    "    display(\"Hello World!\")\n",
    "    urls = []\n",
    "    \n",
    "    with open(location + url_file) as f:\n",
    "        urls = [line for line in f]\n",
    "    \n",
    "    \n",
    "    chrome_driver_path = '/Users/arunRB/Downloads/chromedriver'\n",
    "    \n",
    "    chrome_options = Options()\n",
    "    chrome_options.headless = False\n",
    "    #chrome_options.add_argument('--start-maximized')\n",
    "    \n",
    "    #manually using local chromedriver path\n",
    "    #browser = webdriver.Chrome(chrome_driver_path, options=chrome_options)\n",
    "    \n",
    "    #browser = webdriver.Chrome(ChromeDriverManager().install(), options=chrome_options)\n",
    "    \n",
    "    i = 70\n",
    "    retry_count = 3\n",
    "    while i < len(urls):\n",
    "        url = urls[i]\n",
    "        print(f'processing url {i}: {url}')\n",
    "        browser = webdriver.Chrome(ChromeDriverManager().install(), options=chrome_options)\n",
    "        \n",
    "        get_chapter_instance = GetChapter()\n",
    "        was_success = get_chapter_instance.fetch_chapter(browser, url)\n",
    "        \n",
    "        if was_success:\n",
    "            i = i + 1\n",
    "            retry_count = 3\n",
    "        elif retry_count >= 0:\n",
    "            retry_count =retry_count -1 \n",
    "            print(f\" ### RETRYING {retry_count}\")\n",
    "        else:\n",
    "            print(f'########## ABORTING. RETRY FAILED FOR URL {url} ##########')\n",
    "            break\n",
    "\n",
    "if __name__ == \"__main__\":\n",
    "    main()\n"
   ]
  },
  {
   "cell_type": "code",
   "execution_count": null,
   "metadata": {},
   "outputs": [],
   "source": []
  },
  {
   "cell_type": "code",
   "execution_count": null,
   "metadata": {},
   "outputs": [],
   "source": []
  }
 ],
 "metadata": {
  "kernelspec": {
   "display_name": "local-venv",
   "language": "python",
   "name": "local-venv"
  },
  "language_info": {
   "codemirror_mode": {
    "name": "ipython",
    "version": 3
   },
   "file_extension": ".py",
   "mimetype": "text/x-python",
   "name": "python",
   "nbconvert_exporter": "python",
   "pygments_lexer": "ipython3",
   "version": "3.7.4"
  }
 },
 "nbformat": 4,
 "nbformat_minor": 4
}
